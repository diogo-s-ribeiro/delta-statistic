{
 "cells": [
  {
   "attachments": {},
   "cell_type": "markdown",
   "metadata": {},
   "source": [
    "<br>\n",
    "<body>\n",
    "  <b><p style=\"color:#FF0000\";>1. Create a new environment</p></b>\n",
    "</body>"
   ]
  },
  {
   "attachments": {},
   "cell_type": "markdown",
   "metadata": {},
   "source": [
    "<p> &ensp; Open your command prompt or terminal and navigate to the directory where you want to create the new environment. </p>\n",
    "\n",
    "<p> <small> &ensp; PS: You can run terminal commands using !pip in Python if you are using a Jupyter Notebook or a similar environment. A command with \"!\" in a Jupyter Notebook cell allows you to execute that command as if you were running it in a terminal. However, it's worth noting that there might be some variations or restrictions depending on the specific environment or setup you are using. </small></p>"
   ]
  },
  {
   "cell_type": "code",
   "execution_count": null,
   "metadata": {},
   "outputs": [],
   "source": [
    "!python -m venv delta-webapp"
   ]
  },
  {
   "attachments": {},
   "cell_type": "markdown",
   "metadata": {},
   "source": [
    "<p> &ensp; Creating a new environment provides a controlled and isolated space for your projects, since each acts as a separate, self-contained workspace. This isolation helps avoid conflicts between different projects that may require different versions of the same package, alowing you to manage the dependencies of your project more effectively. To activate the environment, use the following command: </p><br>\n",
    "\n",
    "<p><b><p style=\"color:orange\";>ATENTION:</p></b>\n",
    "<p>You might need to manually change the Kernel </p>"
   ]
  },
  {
   "attachments": {},
   "cell_type": "markdown",
   "metadata": {},
   "source": [
    "                For Windows:"
   ]
  },
  {
   "cell_type": "code",
   "execution_count": null,
   "metadata": {},
   "outputs": [],
   "source": [
    "!delta-webapp\\Scripts\\activate"
   ]
  },
  {
   "attachments": {},
   "cell_type": "markdown",
   "metadata": {},
   "source": [
    "                For MacOS or Linux:"
   ]
  },
  {
   "cell_type": "code",
   "execution_count": null,
   "metadata": {},
   "outputs": [],
   "source": [
    "!source delta-webapp/bin/activate"
   ]
  },
  {
   "attachments": {},
   "cell_type": "markdown",
   "metadata": {},
   "source": [
    "<br>\n",
    "<body>\n",
    "  <b><p style=\"color:#FF0000\";>2. Install Packages that are needed in this new environment</p></b>\n",
    "</body>"
   ]
  },
  {
   "attachments": {},
   "cell_type": "markdown",
   "metadata": {},
   "source": [
    "<p> &ensp; You can now install packages and libraries specific to this environment using \"pip\". </p>\n",
    "<p> &ensp; If you only want to run a specific part of the code, you can install it one-by-one, otherwise it's simpler to run in the terminal: </p>"
   ]
  },
  {
   "cell_type": "code",
   "execution_count": null,
   "metadata": {},
   "outputs": [],
   "source": [
    "!pip install -r requirements.txt"
   ]
  },
  {
   "attachments": {},
   "cell_type": "markdown",
   "metadata": {},
   "source": [
    "<br>\n",
    "<body>\n",
    "  <b><p style=\"color:#FF0000\";>3. Run the webapp in your local machine</p></b>\n",
    "</body>"
   ]
  },
  {
   "attachments": {},
   "cell_type": "markdown",
   "metadata": {},
   "source": [
    "<p> &ensp; In the terminal, check if you're in the correct folder and write the following command: </p>"
   ]
  },
  {
   "cell_type": "raw",
   "metadata": {},
   "source": [
    "python manage.py migrate"
   ]
  },
  {
   "attachments": {},
   "cell_type": "markdown",
   "metadata": {},
   "source": [
    "<p> &ensp; The <b>\"migrate\"</b> command is used to apply any pending database migrations and set up the database schema based on your Django models. You typically run this command only once, during the initial setup or whenever there are new migrations to apply. After the first time initiating the webapp, everytime you want to initiate the webapp in your local machine, while in the correct folder, you just need to type the following command in the terminal: </p>"
   ]
  },
  {
   "cell_type": "raw",
   "metadata": {},
   "source": [
    "python manage.py runserver"
   ]
  },
  {
   "attachments": {},
   "cell_type": "markdown",
   "metadata": {},
   "source": [
    "<p> &ensp; The <b>\"runserver\"</b> command starts the development server and runs your Django web app locally. You can access your app by visiting \"http://localhost:(usually 8000)\" in your web browser. </p>\n",
    "<p> &ensp; For more information check Django Documentation </p>\n",
    "\n",
    "<br>\n",
    "<details><summary> References </summary>\n",
    "\n",
    "Django Documentation &ensp; [Link](https://docs.djangoproject.com/en/4.2/)\n",
    "\n",
    "</details>\n",
    "<br>"
   ]
  }
 ],
 "metadata": {
  "kernelspec": {
   "display_name": "Python 3",
   "language": "python",
   "name": "python3"
  },
  "language_info": {
   "codemirror_mode": {
    "name": "ipython",
    "version": 3
   },
   "file_extension": ".py",
   "mimetype": "text/x-python",
   "name": "python",
   "nbconvert_exporter": "python",
   "pygments_lexer": "ipython3",
   "version": "3.10.10"
  },
  "orig_nbformat": 4
 },
 "nbformat": 4,
 "nbformat_minor": 2
}
