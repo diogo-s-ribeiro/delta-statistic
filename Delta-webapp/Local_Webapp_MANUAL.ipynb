{
 "cells": [
  {
   "attachments": {},
   "cell_type": "markdown",
   "metadata": {},
   "source": [
    "<br>\n",
    "<body>\n",
    "  <b><p style=\"color:#FF0000\";>1. Prepare Directory</p></b>\n",
    "</body>"
   ]
  },
  {
   "attachments": {},
   "cell_type": "markdown",
   "metadata": {},
   "source": [
    "<p> &ensp; Before you start, make sure git is installed in your PC. If not, you can skip this step and just manually transfer the files into your current working directory. </p>\n",
    "<p> &ensp; Transfer the files with git to your computer. </p>"
   ]
  },
  {
   "cell_type": "code",
   "execution_count": null,
   "metadata": {},
   "outputs": [],
   "source": [
    "!git clone https://github.com/diogo-s-ribeiro/delta-statistic"
   ]
  },
  {
   "attachments": {},
   "cell_type": "markdown",
   "metadata": {},
   "source": [
    "<p> &ensp; Move to the correct directory. Again, you can just manually open python directly in the \"Delta-Python\" folder. </p>"
   ]
  },
  {
   "cell_type": "code",
   "execution_count": null,
   "metadata": {},
   "outputs": [],
   "source": [
    "!cd ./delta-statistic/Delta-Python/"
   ]
  },
  {
   "attachments": {},
   "cell_type": "markdown",
   "metadata": {},
   "source": [
    "<br>\n",
    "<body>\n",
    "  <b><p style=\"color:#FF0000\";>2. Install Packages that are needed in this new environment</p></b>\n",
    "</body>"
   ]
  },
  {
   "cell_type": "code",
   "execution_count": null,
   "metadata": {},
   "outputs": [],
   "source": [
    "!python -m pip install --upgrade pip"
   ]
  },
  {
   "attachments": {},
   "cell_type": "markdown",
   "metadata": {},
   "source": [
    "<p> &ensp; Make sure your python version is up-to-date. </p>"
   ]
  },
  {
   "cell_type": "raw",
   "metadata": {},
   "source": [
    "python --version"
   ]
  },
  {
   "attachments": {},
   "cell_type": "markdown",
   "metadata": {},
   "source": [
    "<p> &ensp; You can now install packages and libraries specific to this environment using \"pip\". </p>\n",
    "<p> &ensp; If you only want to run a specific part of the code, you can install it one-by-one, otherwise it's simpler to run in the terminal: </p>"
   ]
  },
  {
   "cell_type": "code",
   "execution_count": null,
   "metadata": {},
   "outputs": [],
   "source": [
    "!pip install -r requirements.txt"
   ]
  },
  {
   "attachments": {},
   "cell_type": "markdown",
   "metadata": {},
   "source": [
    "<br>\n",
    "<body>\n",
    "  <b><p style=\"color:#FF0000\";>3. Run the webapp in your local machine</p></b>\n",
    "</body>"
   ]
  },
  {
   "attachments": {},
   "cell_type": "markdown",
   "metadata": {},
   "source": [
    "<p> &ensp; In the terminal, check if you're in the correct folder and write the following command: </p>"
   ]
  },
  {
   "cell_type": "raw",
   "metadata": {},
   "source": [
    "python manage.py migrate"
   ]
  },
  {
   "attachments": {},
   "cell_type": "markdown",
   "metadata": {},
   "source": [
    "<p> &ensp; The <b>\"migrate\"</b> command is used to apply any pending database migrations and set up the database schema based on your Django models. You typically run this command only once, during the initial setup or whenever there are new migrations to apply. After the first time initiating the webapp, everytime you want to initiate the webapp in your local machine, while in the correct folder, you just need to type the following command in the terminal: </p>"
   ]
  },
  {
   "cell_type": "raw",
   "metadata": {},
   "source": [
    "python manage.py runserver"
   ]
  },
  {
   "attachments": {},
   "cell_type": "markdown",
   "metadata": {},
   "source": [
    "<p> &ensp; The <b>\"runserver\"</b> command starts the development server and runs your Django web app locally. You can access your app by visiting \"http://localhost:(usually 8000)\" in your web browser. </p>\n",
    "<p> &ensp; For more information check Django Documentation </p>\n",
    "\n",
    "<br>\n",
    "<details><summary> References </summary>\n",
    "\n",
    "Django Documentation &ensp; [Link](https://docs.djangoproject.com/en/4.2/)\n",
    "\n",
    "</details>\n",
    "<br>"
   ]
  }
 ],
 "metadata": {
  "kernelspec": {
   "display_name": "Python 3",
   "language": "python",
   "name": "python3"
  },
  "language_info": {
   "codemirror_mode": {
    "name": "ipython",
    "version": 3
   },
   "file_extension": ".py",
   "mimetype": "text/x-python",
   "name": "python",
   "nbconvert_exporter": "python",
   "pygments_lexer": "ipython3",
   "version": "3.10.10"
  },
  "orig_nbformat": 4
 },
 "nbformat": 4,
 "nbformat_minor": 2
}
